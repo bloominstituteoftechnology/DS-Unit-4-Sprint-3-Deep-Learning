{
 "cells": [
  {
   "cell_type": "markdown",
   "metadata": {
    "deletable": false,
    "editable": false,
    "nbgrader": {
     "cell_type": "markdown",
     "checksum": "86b13a2fc35d439515ce983a11c6b773",
     "grade": false,
     "grade_id": "cell-1457b7bd4eaf95c6",
     "locked": true,
     "schema_version": 3,
     "solution": false,
     "task": false
    }
   },
   "source": [
    "# Major Neural Network Architectures Challenge\n",
    "## *Data Science Sprint 15 Challenge*\n",
    "\n",
    "In this sprint challenge, you'll explore some of the cutting edge of Deep Learning. This week we studied several famous neural network architectures: \n",
    "recurrent neural networks (RNNs), long short-term memory (LSTMs), convolutional neural networks (CNNs), and Autoencoders. In this sprint challenge, you will revisit these models. Remember, we are testing your knowledge of these architectures not your ability to fit a model with high accuracy. \n",
    "\n",
    "__*Caution:*__  these approaches can be pretty heavy computationally. All problems were designed so that you should be able to achieve results within at most 5-10 minutes of runtime locally, on AWS SageMaker, on Colab or on a comparable environment. If something is running longer, double check your approach!\n",
    "\n",
    "__*GridSearch:*__ CodeGrade will likely break if it is asked to run a gridsearch for a deep learning model (CodeGrade instances run on a single processor). So while you may choose to run a gridsearch locally to find the optimum hyper-parameter values for your model, **please delete (or comment out) the gridsearch code and simply instantiate a model with the optimum parameter values to get the performance that you want out of your model prior to submission.** \n",
    "\n",
    "\n",
    "## Challenge Objectives\n",
    "*You should be able to:*\n",
    "* <a href=\"#p1\">Part 1</a>: Train a LSTM classification model\n",
    "* <a href=\"#p2\">Part 2</a>: Utilize a pre-trained CNN for object detection\n",
    "\n",
    "____\n",
    "\n",
    "# (CodeGrade) Before you submit your notebook you must first\n",
    "\n",
    "1) Restart your notebook's Kernel\n",
    "\n",
    "2) Run all cells sequentially, from top to bottom, so that cell numbers are sequential numbers (i.e. 1,2,3,4,5...)\n",
    "- Easiest way to do this is to click on the **Cell** tab at the top of your notebook and select **Run All** from the drop down menu. \n",
    "\n",
    "3) If you have gridsearch code, now is when you either delete it or comment out that code so CodeGrade doesn't run it and crash. \n",
    "\n",
    "4) Read the directions in **Part 2** of this notebook for specific instructions on how to prep that section for CodeGrade.\n",
    "\n",
    "____"
   ]
  },
  {
   "cell_type": "markdown",
   "metadata": {
    "colab_type": "text",
    "deletable": false,
    "editable": false,
    "id": "-5UwGRnJOmD4",
    "nbgrader": {
     "cell_type": "markdown",
     "checksum": "9c4f79372cf770319e8e6d5f66918a53",
     "grade": false,
     "grade_id": "cell-5045e73a00a3f6af",
     "locked": true,
     "schema_version": 3,
     "solution": false,
     "task": false
    }
   },
   "source": [
    "<a id=\"p1\"></a>\n",
    "## Part 1 - LSTMs\n",
    "\n",
    "Use a LSTM to fit a multi-class classification model on Reuters news articles to distinguish topics of articles. The data is already encoded properly for use in a LSTM model. \n",
    "\n",
    "Your Tasks: \n",
    "- Use Keras to fit a predictive model, classifying news articles into topics. \n",
    "- Name your model as `model`\n",
    "- Use a `single hidden layer`\n",
    "- Use `sparse_categorical_crossentropy` as your loss function\n",
    "- Use `accuracy` as your metric\n",
    "- Report your overall score and accuracy\n",
    "- Due to resource concerns on CodeGrade, `set your model's epochs=1`\n",
    "\n",
    "For reference, the LSTM code we used in class will be useful. \n",
    "\n",
    "__*Note:*__  Focus on getting a running model, not on maxing accuracy with extreme data size or epoch numbers. Only revisit and push accuracy if you get everything else done! "
   ]
  },
  {
   "cell_type": "code",
   "execution_count": null,
   "metadata": {
    "colab": {
     "base_uri": "https://localhost:8080/",
     "height": 1114
    },
    "colab_type": "code",
    "deletable": false,
    "editable": false,
    "id": "DS-9ksWjoJit",
    "nbgrader": {
     "cell_type": "code",
     "checksum": "fde023abb3163baa0d1fce58ad3341b4",
     "grade": false,
     "grade_id": "cell-2c38f6b2487615f9",
     "locked": true,
     "schema_version": 3,
     "solution": false,
     "task": false
    },
    "outputId": "0c3512e4-5cd4-4dc6-9cda-baf00c835f59"
   },
   "outputs": [],
   "source": [
    "# Import data (don't alter the code in this cell)\n",
    "from tensorflow.keras.datasets import reuters\n",
    "\n",
    "# Suppress some warnings from deprecated reuters.load_data\n",
    "import warnings\n",
    "warnings.filterwarnings('ignore')\n",
    "\n",
    "# Load data\n",
    "(X_train, y_train), (X_test, y_test) = reuters.load_data(num_words=None,\n",
    "                                                         skip_top=0,\n",
    "                                                         maxlen=None,\n",
    "                                                         test_split=0.2,\n",
    "                                                         seed=723812,\n",
    "                                                         start_char=1,\n",
    "                                                         oov_char=2,\n",
    "                                                         index_from=3)\n",
    "\n",
    "# Due to limited computational resources on CodeGrade, take the following subsample \n",
    "train_size = 1000\n",
    "X_train = X_train[:train_size]\n",
    "y_train = y_train[:train_size]"
   ]
  },
  {
   "cell_type": "code",
   "execution_count": null,
   "metadata": {
    "colab": {
     "base_uri": "https://localhost:8080/",
     "height": 34
    },
    "colab_type": "code",
    "deletable": false,
    "editable": false,
    "id": "fLKqFh8DovaN",
    "nbgrader": {
     "cell_type": "code",
     "checksum": "0415bb1c0d3ec7878e0b3c947584d853",
     "grade": false,
     "grade_id": "cell-a3b0ae21d15e41bc",
     "locked": true,
     "schema_version": 3,
     "solution": false,
     "task": false
    },
    "outputId": "64b0d621-7e74-4181-9116-406e8c518465"
   },
   "outputs": [],
   "source": [
    "# Demo of encoding\n",
    "word_index = reuters.get_word_index(path=\"reuters_word_index.json\")\n",
    "\n",
    "print(f\"Iran is encoded as {word_index['iran']} in the data\")\n",
    "print(f\"London is encoded as {word_index['london']} in the data\")\n",
    "print(\"Words are encoded as numbers in our dataset.\")"
   ]
  },
  {
   "cell_type": "code",
   "execution_count": null,
   "metadata": {
    "deletable": false,
    "editable": false,
    "nbgrader": {
     "cell_type": "code",
     "checksum": "ed277a08f86bd9f335a0730edc7a1a33",
     "grade": false,
     "grade_id": "cell-47e43dd2812682c7",
     "locked": true,
     "schema_version": 3,
     "solution": false,
     "task": false
    }
   },
   "outputs": [],
   "source": [
    "# Imports (don't alter this code)\n",
    "from tensorflow.keras.preprocessing import sequence\n",
    "from tensorflow.keras.models import Sequential\n",
    "from tensorflow.keras.layers import Dense, Embedding, LSTM\n",
    "\n",
    "# DO NOT CHANGE THESE VALUES \n",
    "# Keras docs say that the + 1 is needed: https://keras.io/api/layers/core_layers/embedding/\n",
    "MAX_FEATURES = len(word_index.values()) + 1\n",
    "\n",
    "# maxlen is the length of each sequence (i.e. document length)\n",
    "MAXLEN = 200"
   ]
  },
  {
   "cell_type": "code",
   "execution_count": null,
   "metadata": {
    "deletable": false,
    "nbgrader": {
     "cell_type": "code",
     "checksum": "36031ab4b52ab8412c65a71e101baaf5",
     "grade": false,
     "grade_id": "cell-471d7f5819bebff6",
     "locked": false,
     "schema_version": 3,
     "solution": true,
     "task": false
    }
   },
   "outputs": [],
   "source": [
    "# Pre-process your data by creating sequences \n",
    "# Save your transformed data to the same variable name:\n",
    "# example: X_train = some_transformation(X_train)\n",
    "\n",
    "# YOUR CODE HERE\n",
    "raise NotImplementedError()"
   ]
  },
  {
   "cell_type": "code",
   "execution_count": null,
   "metadata": {
    "deletable": false,
    "editable": false,
    "nbgrader": {
     "cell_type": "code",
     "checksum": "cef4a5ae6ec56bee0d3121c7d8d37f3e",
     "grade": true,
     "grade_id": "cell-b46c98c26266363a",
     "locked": true,
     "points": 1,
     "schema_version": 3,
     "solution": false,
     "task": false
    }
   },
   "outputs": [],
   "source": [
    "# Visible tests\n",
    "assert X_train.shape[1] == MAXLEN, \"Your train input sequences are the wrong length. Did you use the sequence import?\"\n",
    "assert X_test.shape[1] == MAXLEN, \"Your test input sequences are the wrong length. Did you use the sequence import?\""
   ]
  },
  {
   "cell_type": "markdown",
   "metadata": {},
   "source": [
    "### Create your model\n",
    "\n",
    "Make sure to follow these instructions (also listed above):\n",
    "- Name your model as `model`\n",
    "- Use a `single hidden layer`\n",
    "- Use `sparse_categorical_crossentropy` as your loss function\n",
    "- Use `accuracy` as your metric\n",
    "\n",
    "**Additional considerations**\n",
    "\n",
    "The number of nodes in your output layer should be equal to the number of **unique** values in the sequences you are training and testing on. For this text, that value is equal to 46.\n",
    "\n",
    "- Set the number of nodes in your output layer equal to 46"
   ]
  },
  {
   "cell_type": "code",
   "execution_count": null,
   "metadata": {
    "deletable": false,
    "nbgrader": {
     "cell_type": "code",
     "checksum": "cc18fbac87183e4e19e0342541d5684b",
     "grade": false,
     "grade_id": "cell-5e7ea9089f827793",
     "locked": false,
     "schema_version": 3,
     "solution": true,
     "task": false
    }
   },
   "outputs": [],
   "source": [
    "# Build and complie your model here\n",
    "\n",
    "# YOUR CODE HERE\n",
    "raise NotImplementedError()"
   ]
  },
  {
   "cell_type": "code",
   "execution_count": null,
   "metadata": {
    "deletable": false,
    "editable": false,
    "nbgrader": {
     "cell_type": "code",
     "checksum": "ff2e025e7744c0524ecebcb854ae632d",
     "grade": true,
     "grade_id": "cell-54f4676c642d2c94",
     "locked": true,
     "points": 1,
     "schema_version": 3,
     "solution": false,
     "task": false
    }
   },
   "outputs": [],
   "source": [
    "# Visible Test\n",
    "assert model.get_config()[\"layers\"][1][\"class_name\"] == \"Embedding\", \"Layer 1 should be an Embedding layer.\""
   ]
  },
  {
   "cell_type": "code",
   "execution_count": null,
   "metadata": {
    "deletable": false,
    "editable": false,
    "nbgrader": {
     "cell_type": "code",
     "checksum": "cc9bb4e19f4d22eb6a243d76024fb637",
     "grade": true,
     "grade_id": "cell-974465c65fe51083",
     "locked": true,
     "points": 1,
     "schema_version": 3,
     "solution": false,
     "task": false
    }
   },
   "outputs": [],
   "source": [
    "# Hidden Test"
   ]
  },
  {
   "cell_type": "markdown",
   "metadata": {
    "deletable": false,
    "editable": false,
    "nbgrader": {
     "cell_type": "markdown",
     "checksum": "1dfe32fc1b0b67889e264adf4f151204",
     "grade": false,
     "grade_id": "cell-e3244fecc74e1964",
     "locked": true,
     "schema_version": 3,
     "solution": false,
     "task": false
    }
   },
   "source": [
    "### Fit your model\n",
    "\n",
    "Now, fit the model that you built and compiled in the previous cells. Remember to set your `epochs=1`! "
   ]
  },
  {
   "cell_type": "code",
   "execution_count": null,
   "metadata": {
    "colab": {},
    "colab_type": "code",
    "deletable": false,
    "id": "_QVSlFEAqWJM",
    "nbgrader": {
     "cell_type": "code",
     "checksum": "214ed02cdf6fe3f25483d81c2f4dd09c",
     "grade": false,
     "grade_id": "cell-10c20c87933d059c",
     "locked": false,
     "schema_version": 3,
     "solution": true,
     "task": false
    }
   },
   "outputs": [],
   "source": [
    "# Fit your model here\n",
    "# REMEMBER to set epochs=1\n",
    "\n",
    "# YOUR CODE HERE\n",
    "raise NotImplementedError()"
   ]
  },
  {
   "cell_type": "code",
   "execution_count": null,
   "metadata": {
    "deletable": false,
    "editable": false,
    "nbgrader": {
     "cell_type": "code",
     "checksum": "ca6a93fe03cb86e1d3ba3d38fc848102",
     "grade": true,
     "grade_id": "cell-277a7dc0b08b9a29",
     "locked": true,
     "points": 1,
     "schema_version": 3,
     "solution": false,
     "task": false
    }
   },
   "outputs": [],
   "source": [
    "# Visible Test \n",
    "n_epochs = len(model.history.history[\"loss\"])\n",
    "assert n_epochs == 1, \"Verify that you set epochs to 1.\""
   ]
  },
  {
   "cell_type": "markdown",
   "metadata": {
    "colab_type": "text",
    "deletable": false,
    "editable": false,
    "id": "yz0LCZd_O4IG",
    "nbgrader": {
     "cell_type": "markdown",
     "checksum": "1eda5a7c7517b129415df16de760ea9b",
     "grade": false,
     "grade_id": "cell-32608feb8bec11a2",
     "locked": true,
     "schema_version": 3,
     "solution": false,
     "task": false
    }
   },
   "source": [
    "<a id=\"p2\"></a>\n",
    "## Part 2- CNNs\n",
    "\n",
    "### Find the Frog\n",
    "\n",
    "Time to play \"find the frog!\" Use Keras and [ResNet50v2](https://www.tensorflow.org/api_docs/python/tf/keras/applications/resnet_v2) (pre-trained) to detect which of the images with the `frog_images` subdirectory has a frog in it.\n",
    "\n",
    "<img align=\"left\" src=\"https://d3i6fh83elv35t.cloudfront.net/newshour/app/uploads/2017/03/GettyImages-654745934-1024x687.jpg\" width=400>"
   ]
  },
  {
   "cell_type": "markdown",
   "metadata": {
    "colab_type": "text",
    "deletable": false,
    "editable": false,
    "id": "yz0LCZd_O4IG",
    "nbgrader": {
     "cell_type": "markdown",
     "checksum": "03db6686928d5d2bc9bd61341df30a80",
     "grade": false,
     "grade_id": "cell-f6185918d40cdcbe",
     "locked": true,
     "schema_version": 3,
     "solution": false,
     "task": false
    }
   },
   "source": [
    "The skimage function below will help you read in all the frog images into memory at once. You should use the preprocessing functions that come with ResnetV2, and you should also resize the images using scikit-image.\n",
    "\n",
    "### Reading in the images\n",
    "\n",
    "The code in the following cell will download the images to your notebook (either in your local Jupyter notebook or in Google colab).\n",
    "\n",
    "**Note**: In order to properly run this notebook in Codegrade, you must comment out\n",
    "\n",
    "`data = urllib.request.urlopen(text_file)` \n",
    "\n",
    "after running the cell in your environment. "
   ]
  },
  {
   "cell_type": "code",
   "execution_count": null,
   "metadata": {},
   "outputs": [],
   "source": [
    "# Prep to import images (don't alter the code in this cell)\n",
    "import urllib.request\n",
    "\n",
    "# Text file of image URLs\n",
    "text_file = \"https://raw.githubusercontent.com/bloominstituteoftechnology/data-science-canvas-images/main/unit_4/sprint_challenge_files/frog_image_url.txt\"\n",
    "#data = urllib.request.urlopen(text_file)\n",
    "\n",
    "# Create list of image URLs\n",
    "url_list = [] \n",
    "for line in data:\n",
    "    url_list.append(line.decode('utf-8'))"
   ]
  },
  {
   "cell_type": "code",
   "execution_count": null,
   "metadata": {
    "colab": {
     "base_uri": "https://localhost:8080/",
     "height": 245
    },
    "colab_type": "code",
    "deletable": false,
    "editable": false,
    "id": "whIqEWR236Af",
    "nbgrader": {
     "cell_type": "code",
     "checksum": "d94c803edb8c2216699be6986e21693e",
     "grade": false,
     "grade_id": "cell-414c383e7513e396",
     "locked": true,
     "schema_version": 3,
     "solution": false,
     "task": false
    },
    "outputId": "7a74e30d-310d-4a3a-9ae4-5bf52d137bda"
   },
   "outputs": [],
   "source": [
    "# Import images (don't alter the code in this cell)\n",
    "\n",
    "from skimage.io import imread\n",
    "from skimage.transform import resize \n",
    "\n",
    "# instantiate list to hold images\n",
    "image_list = []\n",
    "\n",
    "### UNCOMMENT THE FOLLOWING CODE TO LOAD YOUR IMAGES\n",
    "\n",
    "#loop through URLs and load each image\n",
    "for url in url_list:\n",
    "    image_list.append(imread(url))\n",
    "\n",
    "## UNCOMMENT THE FOLLOWING CODE TO VIEW AN EXAMPLE IMAGE SIZE\n",
    "#What is an \"image\"?\n",
    "print(type(image_list[0]), end=\"\\n\\n\")\n",
    "\n",
    "print(\"Each of the Images is a Different Size\")\n",
    "print(image_list[0].shape)\n",
    "print(image_list[1].shape)"
   ]
  },
  {
   "cell_type": "markdown",
   "metadata": {
    "colab_type": "text",
    "deletable": false,
    "editable": false,
    "id": "si5YfNqS50QU",
    "nbgrader": {
     "cell_type": "markdown",
     "checksum": "7c633189a2645b6740b14c31adcffae2",
     "grade": false,
     "grade_id": "cell-787daf333f1fcb39",
     "locked": true,
     "schema_version": 3,
     "solution": false,
     "task": false
    }
   },
   "source": [
    "### Run ResNet50v2\n",
    "\n",
    "Your goal is to validly run ResNet50v2 on the input images - don't worry about tuning or improving the model. You can print out or view the predictions in any way you see fit. In order to receive credit, you need to have made predictions at some point in the following cells.\n",
    "\n",
    "*Hint* - ResNet 50v2 doesn't just return \"frog\". The three labels it has for frogs are: `bullfrog, tree frog, tailed frog`\n",
    "\n",
    "**Autograded tasks**\n",
    "\n",
    "* Instantiate your ResNet 50v2 and save to a variable named `resnet_model`\n",
    "\n",
    "**Other tasks**\n",
    "* Re-size your images\n",
    "* Use `resnet_model` to predict if each image contains a frog\n",
    "* Decode your predictions\n",
    "* Hint: the lesson on CNNs will have some helpful code\n",
    "\n",
    "**Stretch goals***\n",
    "* Check for other things such as fish\n",
    "* Print out the image with its predicted label\n",
    "* Wrap everything nicely in well documented functions\n",
    "\n",
    "## Important note!\n",
    "\n",
    "To increase the chances that your notebook will run in CodeGrade, when you **submit** your notebook:\n",
    "\n",
    "* comment out the code where you load the images\n",
    "* comment out the code where you make the predictions\n",
    "* comment out any plots or image displays you create\n",
    "\n",
    "**MAKE SURE YOUR NOTEBOOK RUNS COMPLETELY BEFORE YOU SUBMIT!**"
   ]
  },
  {
   "cell_type": "code",
   "execution_count": null,
   "metadata": {
    "colab": {},
    "colab_type": "code",
    "deletable": false,
    "editable": false,
    "id": "FaT07ddW3nHz",
    "nbgrader": {
     "cell_type": "code",
     "checksum": "c47ea88ade85c3b6e724c1d75cbc9bcc",
     "grade": false,
     "grade_id": "cell-a2c1648668f631bb",
     "locked": true,
     "schema_version": 3,
     "solution": false,
     "task": false
    }
   },
   "outputs": [],
   "source": [
    "# Imports\n",
    "import numpy as np\n",
    "import matplotlib.pyplot as plt\n",
    "\n",
    "from tensorflow.keras.applications.resnet_v2 import ResNet50V2 # <-- pre-trained model \n",
    "from tensorflow.keras.preprocessing import image\n",
    "from tensorflow.keras.applications.resnet_v2 import preprocess_input, decode_predictions"
   ]
  },
  {
   "cell_type": "code",
   "execution_count": null,
   "metadata": {
    "colab": {},
    "colab_type": "code",
    "deletable": false,
    "id": "FaT07ddW3nHz",
    "nbgrader": {
     "cell_type": "code",
     "checksum": "00c7d152b14a85442baaad9b9fcbbe15",
     "grade": false,
     "grade_id": "cell-2715a95f2bcdf3f8",
     "locked": false,
     "schema_version": 3,
     "solution": true,
     "task": false
    }
   },
   "outputs": [],
   "source": [
    "# Code from the CNN lecture might come in handy here! \n",
    "\n",
    "# YOUR CODE HERE\n",
    "raise NotImplementedError()"
   ]
  },
  {
   "cell_type": "code",
   "execution_count": null,
   "metadata": {
    "deletable": false,
    "editable": false,
    "nbgrader": {
     "cell_type": "code",
     "checksum": "8422b109fee28552ed916f7f8957dde3",
     "grade": true,
     "grade_id": "cell-6e0982cb9f7775ef",
     "locked": true,
     "points": 1,
     "schema_version": 3,
     "solution": false,
     "task": false
    }
   },
   "outputs": [],
   "source": [
    "### HIDDEN TESTS\n",
    "assert resnet_model.get_config()[\"name\"] == \"resnet50v2\", \"Did you instantiate the resnet model?\""
   ]
  },
  {
   "cell_type": "markdown",
   "metadata": {
    "colab_type": "text",
    "deletable": false,
    "editable": false,
    "id": "_Hoqe3mM_Mtc",
    "nbgrader": {
     "cell_type": "markdown",
     "checksum": "834345210019cdb314739199705c97b4",
     "grade": false,
     "grade_id": "cell-cab247d3a860b0e4",
     "locked": true,
     "schema_version": 3,
     "solution": false,
     "task": false
    }
   },
   "source": [
    "## Congratulations! \n",
    "\n",
    "Thank you for your hard work, and [congratulations](https://giphy.com/embed/26xivLqkv86uJzqWk)!!! You've learned a lot, and you should proudly call yourself a Data Scientist.\n"
   ]
  }
 ],
 "metadata": {
  "accelerator": "GPU",
  "colab": {
   "collapsed_sections": [],
   "name": "LS_DS_Unit_4_Sprint_Challenge_4.ipynb",
   "provenance": [],
   "version": "0.3.2"
  },
  "kernel_info": {
   "name": "u4-s3-dnn"
  },
  "kernelspec": {
   "display_name": "Python 3",
   "language": "python",
   "name": "python3"
  },
  "language_info": {
   "codemirror_mode": {
    "name": "ipython",
    "version": 3
   },
   "file_extension": ".py",
   "mimetype": "text/x-python",
   "name": "python",
   "nbconvert_exporter": "python",
   "pygments_lexer": "ipython3",
   "version": "3.8.8"
  },
  "nteract": {
   "version": "0.22.4"
  }
 },
 "nbformat": 4,
 "nbformat_minor": 4
}
